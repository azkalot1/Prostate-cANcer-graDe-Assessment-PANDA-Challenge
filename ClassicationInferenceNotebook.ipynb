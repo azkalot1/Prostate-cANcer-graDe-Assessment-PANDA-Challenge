{
 "cells": [
  {
   "cell_type": "markdown",
   "metadata": {},
   "source": [
    "#### Example of running a classifier and making a heatmap for the entire slice"
   ]
  },
  {
   "cell_type": "code",
   "execution_count": null,
   "metadata": {},
   "outputs": [],
   "source": [
    "import os\n",
    "import pandas as pd\n",
    "import numpy as np\n",
    "import json\n",
    "from panda_challenge.train_utils import get_model\n",
    "from panda_challenge.inference_utils import get_slice_heatmap\n",
    "import matplotlib.pyplot as plt\n",
    "import matplotlib\n",
    "import torch\n",
    "import openslide"
   ]
  },
  {
   "cell_type": "code",
   "execution_count": null,
   "metadata": {},
   "outputs": [],
   "source": [
    "with open('./configs/test_run_v2_config.json', 'r') as f:\n",
    "    params = json.load(f)"
   ]
  },
  {
   "cell_type": "code",
   "execution_count": null,
   "metadata": {},
   "outputs": [],
   "source": [
    "data_val = pd.read_csv('/data/personal_folders/skolchenko/panda/data_val.csv')\n",
    "data_val.head(5)"
   ]
  },
  {
   "cell_type": "code",
   "execution_count": null,
   "metadata": {},
   "outputs": [],
   "source": [
    "model = get_model(\n",
    "    params['model_name'],\n",
    "    **params['model_config'])\n",
    "model.cuda()\n",
    "checkpoint = torch.load(os.path.join(params['log_dir'], 'checkpoints/best.pth'))\n",
    "model.load_state_dict(checkpoint['model_state_dict'])\n",
    "model.eval()"
   ]
  },
  {
   "cell_type": "code",
   "execution_count": null,
   "metadata": {},
   "outputs": [],
   "source": [
    "cmap = matplotlib.colors.ListedColormap([\n",
    "    'black',\n",
    "    'gray',\n",
    "    'green',\n",
    "    'yellow',\n",
    "    'orange',\n",
    "    'red'])"
   ]
  },
  {
   "cell_type": "code",
   "execution_count": null,
   "metadata": {},
   "outputs": [],
   "source": [
    "idx = 12\n",
    "slide_id = data_val.image_id.values[idx]\n",
    "isup_grade = data_val.isup_grade.values[idx]\n",
    "mask = openslide.OpenSlide(os.path.join(\n",
    "    params['val_mask_dir'],\n",
    "    f'{slide_id}_mask.tiff'))\n",
    "image = openslide.OpenSlide(os.path.join(\n",
    "    params['val_image_dir'],\n",
    "    f'{slide_id}.tiff'))  \n",
    "predictions = get_slice_heatmap(slide_id, params['val_image_dir'], bg_thr=0.5, model=model)"
   ]
  },
  {
   "cell_type": "code",
   "execution_count": null,
   "metadata": {},
   "outputs": [],
   "source": [
    "mask = mask.read_region((0,0), 2, mask.level_dimensions[-1])\n",
    "mask = np.asarray(mask)[..., 0]\n",
    "image = image.read_region((0,0), 2, image.level_dimensions[-1])\n",
    "image = np.asarray(image)[..., :3]"
   ]
  },
  {
   "cell_type": "code",
   "execution_count": null,
   "metadata": {},
   "outputs": [],
   "source": [
    "f, ax = plt.subplots(1,3)\n",
    "ax[0].imshow(mask, cmap=cmap)\n",
    "ax[0].set_title('Original mask')\n",
    "ax[0].set_xticks([]),\n",
    "ax[0].set_yticks([])\n",
    "ax[1].imshow(predictions, cmap=cmap)\n",
    "ax[1].set_title('Predction heatmap')\n",
    "ax[1].set_xticks([])\n",
    "ax[1].set_yticks([])\n",
    "ax[2].imshow(image, cmap=cmap)\n",
    "ax[2].set_title(f'Slide isup grade {isup_grade}');\n",
    "ax[2].set_xticks([])\n",
    "ax[2].set_yticks([]);"
   ]
  }
 ],
 "metadata": {
  "kernelspec": {
   "display_name": "Python 3.7.5 64-bit ('deeplearning': conda)",
   "language": "python",
   "name": "python37564bitdeeplearningconda2f5dcc693383402099797ed40bd3951d"
  },
  "language_info": {
   "codemirror_mode": {
    "name": "ipython",
    "version": 3
   },
   "file_extension": ".py",
   "mimetype": "text/x-python",
   "name": "python",
   "nbconvert_exporter": "python",
   "pygments_lexer": "ipython3",
   "version": "3.7.5"
  }
 },
 "nbformat": 4,
 "nbformat_minor": 2
}
