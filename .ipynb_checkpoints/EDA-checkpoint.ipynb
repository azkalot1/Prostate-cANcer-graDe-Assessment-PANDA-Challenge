{
 "cells": [
  {
   "cell_type": "markdown",
   "metadata": {},
   "source": [
    "### EDA, vizualization of some cases, check for consistency of labels"
   ]
  },
  {
   "cell_type": "code",
   "execution_count": 1,
   "metadata": {},
   "outputs": [],
   "source": [
    "from panda_challenge.EDA_utils import makeSimpleEDAplots\n",
    "from panda_challenge.EDA_utils import visualizeExampleMaskSlide, get_desc_image\n",
    "from panda_challenge.EDA_utils import visualizeExampleSingeSlide, cropRandomExample\n",
    "from panda_challenge.utils import crop_around_mask\n",
    "import os\n",
    "import pandas as pd\n",
    "import matplotlib.pyplot as plt\n",
    "import matplotlib\n",
    "import numpy as np"
   ]
  },
  {
   "cell_type": "code",
   "execution_count": 2,
   "metadata": {},
   "outputs": [],
   "source": [
    "DATA_DIR = '/data/personal_folders/skolchenko/panda' \n",
    "IMAGE_DIR = '/data/personal_folders/skolchenko/panda/train_images/'\n",
    "MASK_DIR = '/data/personal_folders/skolchenko/panda/train_label_masks//'\n",
    "TRAIN_LABELS = '/data/personal_folders/skolchenko/panda/train.csv'"
   ]
  },
  {
   "cell_type": "markdown",
   "metadata": {},
   "source": [
    "Reference of Gleason and ISUP"
   ]
  },
  {
   "cell_type": "markdown",
   "metadata": {},
   "source": [
    "![Gleason and ISUP score reference](images/reference_image.png)"
   ]
  },
  {
   "cell_type": "code",
   "execution_count": 3,
   "metadata": {},
   "outputs": [],
   "source": [
    "train_labes = pd.read_csv(TRAIN_LABELS)"
   ]
  },
  {
   "cell_type": "code",
   "execution_count": null,
   "metadata": {},
   "outputs": [],
   "source": [
    "train_labes.pivot_table(index='isup_grade', columns='gleason_score', aggfunc='size', fill_value=0)"
   ]
  },
  {
   "cell_type": "markdown",
   "metadata": {},
   "source": [
    "One example with Gleason score 4+3 is labeled as 2 ISUP grade, but it should be 3  \n",
    "Now visualize for different providers (Radboud and Karolinska)"
   ]
  },
  {
   "cell_type": "code",
   "execution_count": null,
   "metadata": {},
   "outputs": [],
   "source": [
    "radbound_labels = train_labes.loc[train_labes.data_provider == 'radboud', :]\n",
    "radbound_labels.pivot_table(index='isup_grade', columns='gleason_score', aggfunc='size', fill_value=0)"
   ]
  },
  {
   "cell_type": "code",
   "execution_count": null,
   "metadata": {},
   "outputs": [],
   "source": [
    "karolinska_labels = train_labes.loc[train_labes.data_provider == 'karolinska', :]\n",
    "karolinska_labels.pivot_table(index='isup_grade', columns='gleason_score', aggfunc='size', fill_value=0)"
   ]
  },
  {
   "cell_type": "markdown",
   "metadata": {},
   "source": [
    "Both providers have ISUP grade from 0 to 5; Distribution of Gleason scores amd ISUP grades is slighly different"
   ]
  },
  {
   "cell_type": "code",
   "execution_count": null,
   "metadata": {},
   "outputs": [],
   "source": [
    "makeSimpleEDAplots(train_labes)"
   ]
  },
  {
   "cell_type": "markdown",
   "metadata": {},
   "source": [
    "Visualization of slides patches, with and without masks"
   ]
  },
  {
   "cell_type": "markdown",
   "metadata": {},
   "source": [
    "Combination of mask values:  \n",
    "Radboud: Prostate glands are individually labelled. Valid values are:\n",
    "0: background (non tissue) or unknown  \n",
    "1: stroma (connective tissue, non-epithelium tissue)  \n",
    "2: healthy (benign) epithelium  \n",
    "3: cancerous epithelium (Gleason 3)  \n",
    "4: cancerous epithelium (Gleason 4)  \n",
    "5: cancerous epithelium (Gleason 5)  \n",
    "\n",
    "\n",
    "Karolinska: Regions are labelled. Valid values are:  \n",
    "1: background (non tissue) or unknown  \n",
    "2: benign tissue (stroma and epithelium combined)  \n",
    "3: cancerous tissue (stroma and epithelium combined)  \n"
   ]
  },
  {
   "cell_type": "code",
   "execution_count": null,
   "metadata": {},
   "outputs": [],
   "source": [
    "train_labes.head()"
   ]
  },
  {
   "cell_type": "code",
   "execution_count": null,
   "metadata": {},
   "outputs": [],
   "source": [
    "# Example of healty slide\n",
    "f, ax = plt.subplots(2, 3, figsize=(15, 15))\n",
    "slide_id = '001d865e65ef5d2579c190a0e0350d8f'\n",
    "dp, isup_g, gl_s = get_desc_image(train_labes, slide_id)\n",
    "visualizeExampleSingeSlide(slide_id, ax[0, 0], dp, isup_g, gl_s, DATA_DIR)\n",
    "visualizeExampleMaskSlide(slide_id, ax[1, 0], dp, isup_g, gl_s, DATA_DIR)\n",
    "# Example of cancer slide radboud\n",
    "slide_id = '0018ae58b01bdadc8e347995b69f99aa'\n",
    "dp, isup_g, gl_s = get_desc_image(train_labes, slide_id)\n",
    "visualizeExampleSingeSlide(slide_id, ax[0, 1], dp, isup_g, gl_s, DATA_DIR)\n",
    "visualizeExampleMaskSlide(slide_id, ax[1, 1], dp, isup_g, gl_s, DATA_DIR)\n",
    "# Example of cancer slide radboud\n",
    "slide_id = '001c62abd11fa4b57bf7a6c603a11bb9'\n",
    "dp, isup_g, gl_s = get_desc_image(train_labes, slide_id)\n",
    "visualizeExampleSingeSlide(slide_id, ax[0, 2], dp, isup_g, gl_s, DATA_DIR)\n",
    "visualizeExampleMaskSlide(slide_id, ax[1, 2], dp, isup_g, gl_s, DATA_DIR)"
   ]
  },
  {
   "cell_type": "markdown",
   "metadata": {},
   "source": [
    "Possible training pipelines  \n",
    "1. Crop around mask (R_3, R_4, R_5 + K_3 as cancer, R_1, R_2 + K_2 as bening\\healthy), run classification ISUP \n",
    "2. Only radbound: Crop around masks, run classification: gleason and ISUP, construct gleason score\n",
    "3. Only radbound: Crop around masks, run segmentation + ISUP classification. Run segmentation on karolinska"
   ]
  },
  {
   "cell_type": "markdown",
   "metadata": {},
   "source": [
    "Example of cropping around of non-empty mask"
   ]
  },
  {
   "cell_type": "code",
   "execution_count": null,
   "metadata": {},
   "outputs": [],
   "source": [
    "slide_id = train_labes.sample(1).image_id.values[0]\n",
    "cropRandomExample(slide_id, DATA_DIR)"
   ]
  },
  {
   "cell_type": "code",
   "execution_count": 4,
   "metadata": {},
   "outputs": [],
   "source": [
    "from panda_challenge.dataset import ClassifcationDatasetSimpleTrain\n",
    "import albumentations as A"
   ]
  },
  {
   "cell_type": "code",
   "execution_count": 5,
   "metadata": {},
   "outputs": [],
   "source": [
    "def light_augmentations():\n",
    "    return A.Compose([\n",
    "        # D4 Augmentations\n",
    "        A.Compose([\n",
    "            A.Transpose(),\n",
    "            A.HorizontalFlip(),\n",
    "            A.VerticalFlip(),\n",
    "            A.RandomRotate90(),\n",
    "                ]),\n",
    "        A.Normalize()\n",
    "    ])"
   ]
  },
  {
   "cell_type": "code",
   "execution_count": 6,
   "metadata": {},
   "outputs": [],
   "source": [
    "transforms  = './configs/light_transforms.json'\n",
    "CROP_SIZE = 512\n",
    "train_dataset = ClassifcationDatasetSimpleTrain(train_labes, transforms, IMAGE_DIR, MASK_DIR, CROP_SIZE)"
   ]
  },
  {
   "cell_type": "code",
   "execution_count": null,
   "metadata": {},
   "outputs": [],
   "source": []
  },
  {
   "cell_type": "code",
   "execution_count": null,
   "metadata": {},
   "outputs": [],
   "source": []
  }
 ],
 "metadata": {
  "kernelspec": {
   "display_name": "Python 3.7.5 64-bit ('deeplearning': conda)",
   "language": "python",
   "name": "python37564bitdeeplearningconda2f5dcc693383402099797ed40bd3951d"
  },
  "language_info": {
   "codemirror_mode": {
    "name": "ipython",
    "version": 3
   },
   "file_extension": ".py",
   "mimetype": "text/x-python",
   "name": "python",
   "nbconvert_exporter": "python",
   "pygments_lexer": "ipython3",
   "version": "3.7.5"
  }
 },
 "nbformat": 4,
 "nbformat_minor": 2
}
