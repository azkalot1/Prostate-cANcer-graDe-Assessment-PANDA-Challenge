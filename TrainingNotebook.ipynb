{
 "cells": [
  {
   "cell_type": "code",
   "execution_count": 1,
   "metadata": {},
   "outputs": [],
   "source": [
    "%load_ext autoreload\n",
    "%autoreload 2"
   ]
  },
  {
   "cell_type": "code",
   "execution_count": 2,
   "metadata": {},
   "outputs": [
    {
     "output_type": "stream",
     "name": "stderr",
     "text": "/home/skolchenko/.conda/envs/deeplearning/lib/python3.7/importlib/_bootstrap.py:219: RuntimeWarning:\n\nnumpy.ufunc size changed, may indicate binary incompatibility. Expected 192 from C header, got 216 from PyObject\n\n/home/skolchenko/.conda/envs/deeplearning/lib/python3.7/importlib/_bootstrap.py:219: RuntimeWarning:\n\nnumpy.ufunc size changed, may indicate binary incompatibility. Expected 192 from C header, got 216 from PyObject\n\n/home/skolchenko/.conda/envs/deeplearning/lib/python3.7/importlib/_bootstrap.py:219: RuntimeWarning:\n\nnumpy.ufunc size changed, may indicate binary incompatibility. Expected 192 from C header, got 216 from PyObject\n\n/home/skolchenko/.conda/envs/deeplearning/lib/python3.7/site-packages/torchvision/extension.py:11: ResourceWarning:\n\nunclosed file <_io.BufferedReader name='/home/skolchenko/.conda/envs/deeplearning/lib/python3.7/site-packages/torchvision/_C.so'>\n\n"
    }
   ],
   "source": [
    "from panda_challenge.train_utils import runTraining\n",
    "from sklearn.model_selection import train_test_split\n",
    "import json\n",
    "import pandas as pd\n",
    "import os"
   ]
  },
  {
   "cell_type": "code",
   "execution_count": 3,
   "metadata": {},
   "outputs": [],
   "source": [
    "DATA_DIR = '/data/personal_folders/skolchenko/panda' \n",
    "IMAGE_DIR = '/data/personal_folders/skolchenko/panda/train_images/'\n",
    "MASK_DIR = '/data/personal_folders/skolchenko/panda/train_label_masks//'\n",
    "TRAIN_LABELS = '/data/personal_folders/skolchenko/panda/train.csv'\n",
    "train_labes = pd.read_csv(TRAIN_LABELS)"
   ]
  },
  {
   "cell_type": "code",
   "execution_count": 4,
   "metadata": {},
   "outputs": [],
   "source": [
    "has_slide = []\n",
    "for image_id in train_labes.image_id.values:\n",
    "    has_slide.append(os.path.isfile(os.path.join(\n",
    "        MASK_DIR,\n",
    "        f'{image_id}_mask.tiff')))\n",
    "train_labes['has_slide'] = has_slide\n",
    "train_labes = train_labes.loc[train_labes['has_slide'], :]"
   ]
  },
  {
   "cell_type": "code",
   "execution_count": 5,
   "metadata": {},
   "outputs": [],
   "source": [
    "data_train, data_val = train_test_split(train_labes, test_size=0.25, random_state=42)\n",
    "data_train.to_csv('/data/personal_folders/skolchenko/panda/data_train.csv', index=False)\n",
    "data_val.to_csv('/data/personal_folders/skolchenko/panda/data_val.csv', index=False)"
   ]
  },
  {
   "cell_type": "code",
   "execution_count": 6,
   "metadata": {},
   "outputs": [],
   "source": [
    "with open('./configs/test_run_config.json', 'r') as f:\n",
    "    params = json.load(f)"
   ]
  },
  {
   "cell_type": "code",
   "execution_count": 7,
   "metadata": {},
   "outputs": [
    {
     "output_type": "stream",
     "name": "stdout",
     "text": "1/10 * Epoch (train):   5% 24/493 [00:30<11:24,  1.46s/it, batch_qwk=0.396, loss=1.514]Early exiting\n1/10 * Epoch (train):   5% 24/493 [00:32<11:24,  1.46s/it, batch_qwk=0.396, loss=1.514]"
    }
   ],
   "source": [
    "runTraining(params)"
   ]
  },
  {
   "cell_type": "code",
   "execution_count": null,
   "metadata": {},
   "outputs": [],
   "source": []
  }
 ],
 "metadata": {
  "kernelspec": {
   "display_name": "Python 3.7.5 64-bit ('deeplearning': conda)",
   "language": "python",
   "name": "python37564bitdeeplearningconda2f5dcc693383402099797ed40bd3951d"
  },
  "language_info": {
   "codemirror_mode": {
    "name": "ipython",
    "version": 3
   },
   "file_extension": ".py",
   "mimetype": "text/x-python",
   "name": "python",
   "nbconvert_exporter": "python",
   "pygments_lexer": "ipython3",
   "version": "3.7.5-final"
  }
 },
 "nbformat": 4,
 "nbformat_minor": 2
}